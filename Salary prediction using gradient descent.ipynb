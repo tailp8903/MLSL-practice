{
 "cells": [
  {
   "cell_type": "markdown",
   "metadata": {},
   "source": [
    "In this notebook I'll predict the salary of a employer depend on his/her years experience by using Gradient Descent algorithm. This is a very simple problem because it just have 1 feature so that the weight will just have 1 parameter"
   ]
  },
  {
   "cell_type": "code",
   "execution_count": 61,
   "metadata": {},
   "outputs": [],
   "source": [
    "import numpy as np\n",
    "import pandas as pd\n",
    "import matplotlib.pyplot as plt\n",
    "import copy, math"
   ]
  },
  {
   "cell_type": "code",
   "execution_count": 62,
   "metadata": {},
   "outputs": [
    {
     "data": {
      "text/html": [
       "<div>\n",
       "<style scoped>\n",
       "    .dataframe tbody tr th:only-of-type {\n",
       "        vertical-align: middle;\n",
       "    }\n",
       "\n",
       "    .dataframe tbody tr th {\n",
       "        vertical-align: top;\n",
       "    }\n",
       "\n",
       "    .dataframe thead th {\n",
       "        text-align: right;\n",
       "    }\n",
       "</style>\n",
       "<table border=\"1\" class=\"dataframe\">\n",
       "  <thead>\n",
       "    <tr style=\"text-align: right;\">\n",
       "      <th></th>\n",
       "      <th>YearsExperience</th>\n",
       "      <th>Salary</th>\n",
       "    </tr>\n",
       "  </thead>\n",
       "  <tbody>\n",
       "    <tr>\n",
       "      <th>0</th>\n",
       "      <td>1.1</td>\n",
       "      <td>39343.0</td>\n",
       "    </tr>\n",
       "    <tr>\n",
       "      <th>1</th>\n",
       "      <td>1.3</td>\n",
       "      <td>46205.0</td>\n",
       "    </tr>\n",
       "    <tr>\n",
       "      <th>2</th>\n",
       "      <td>1.5</td>\n",
       "      <td>37731.0</td>\n",
       "    </tr>\n",
       "    <tr>\n",
       "      <th>3</th>\n",
       "      <td>2.0</td>\n",
       "      <td>43525.0</td>\n",
       "    </tr>\n",
       "    <tr>\n",
       "      <th>4</th>\n",
       "      <td>2.2</td>\n",
       "      <td>39891.0</td>\n",
       "    </tr>\n",
       "    <tr>\n",
       "      <th>5</th>\n",
       "      <td>2.9</td>\n",
       "      <td>56642.0</td>\n",
       "    </tr>\n",
       "    <tr>\n",
       "      <th>6</th>\n",
       "      <td>3.0</td>\n",
       "      <td>60150.0</td>\n",
       "    </tr>\n",
       "    <tr>\n",
       "      <th>7</th>\n",
       "      <td>3.2</td>\n",
       "      <td>54445.0</td>\n",
       "    </tr>\n",
       "    <tr>\n",
       "      <th>8</th>\n",
       "      <td>3.2</td>\n",
       "      <td>64445.0</td>\n",
       "    </tr>\n",
       "    <tr>\n",
       "      <th>9</th>\n",
       "      <td>3.7</td>\n",
       "      <td>57189.0</td>\n",
       "    </tr>\n",
       "  </tbody>\n",
       "</table>\n",
       "</div>"
      ],
      "text/plain": [
       "   YearsExperience   Salary\n",
       "0              1.1  39343.0\n",
       "1              1.3  46205.0\n",
       "2              1.5  37731.0\n",
       "3              2.0  43525.0\n",
       "4              2.2  39891.0\n",
       "5              2.9  56642.0\n",
       "6              3.0  60150.0\n",
       "7              3.2  54445.0\n",
       "8              3.2  64445.0\n",
       "9              3.7  57189.0"
      ]
     },
     "execution_count": 62,
     "metadata": {},
     "output_type": "execute_result"
    }
   ],
   "source": [
    "# Load data \n",
    "data = pd.read_csv('Salary_Data.csv')\n",
    "data.head(10)"
   ]
  },
  {
   "cell_type": "markdown",
   "metadata": {},
   "source": [
    "We can see that the salary is $>=$ 30000$. If we keep the data the same, the calcuted weight and bias will very big. In order that, I'll divide the salary by 10000 to make weight and bias become small"
   ]
  },
  {
   "cell_type": "code",
   "execution_count": 63,
   "metadata": {},
   "outputs": [
    {
     "name": "stdout",
     "output_type": "stream",
     "text": [
      "(30,) (30,)\n",
      "0      1.1\n",
      "1      1.3\n",
      "2      1.5\n",
      "3      2.0\n",
      "4      2.2\n",
      "5      2.9\n",
      "6      3.0\n",
      "7      3.2\n",
      "8      3.2\n",
      "9      3.7\n",
      "10     3.9\n",
      "11     4.0\n",
      "12     4.0\n",
      "13     4.1\n",
      "14     4.5\n",
      "15     4.9\n",
      "16     5.1\n",
      "17     5.3\n",
      "18     5.9\n",
      "19     6.0\n",
      "20     6.8\n",
      "21     7.1\n",
      "22     7.9\n",
      "23     8.2\n",
      "24     8.7\n",
      "25     9.0\n",
      "26     9.5\n",
      "27     9.6\n",
      "28    10.3\n",
      "29    10.5\n",
      "Name: YearsExperience, dtype: float64 0      3.9343\n",
      "1      4.6205\n",
      "2      3.7731\n",
      "3      4.3525\n",
      "4      3.9891\n",
      "5      5.6642\n",
      "6      6.0150\n",
      "7      5.4445\n",
      "8      6.4445\n",
      "9      5.7189\n",
      "10     6.3218\n",
      "11     5.5794\n",
      "12     5.6957\n",
      "13     5.7081\n",
      "14     6.1111\n",
      "15     6.7938\n",
      "16     6.6029\n",
      "17     8.3088\n",
      "18     8.1363\n",
      "19     9.3940\n",
      "20     9.1738\n",
      "21     9.8273\n",
      "22    10.1302\n",
      "23    11.3812\n",
      "24    10.9431\n",
      "25    10.5582\n",
      "26    11.6969\n",
      "27    11.2635\n",
      "28    12.2391\n",
      "29    12.1872\n",
      "Name: Salary, dtype: float64\n"
     ]
    }
   ],
   "source": [
    "# Split data into input X and output y\n",
    "X = data['YearsExperience']\n",
    "y = data['Salary'] / 10000\n",
    "print(X.shape, y.shape)\n",
    "print(X, y)"
   ]
  },
  {
   "cell_type": "markdown",
   "metadata": {},
   "source": [
    "In Linear Regression problem, the cost function of the model is defined as:\n",
    "$$\n",
    "    J_{w, b} = \\frac{1}{2m}\\sum_{i = 0}^{m-1} (f(\\vec{X^{(i)}}) - y^{(i)})^2\n",
    "$$\n",
    "where $f(\\vec{X}) = \\vec{w}\\vec{X} + b$"
   ]
  },
  {
   "cell_type": "code",
   "execution_count": 64,
   "metadata": {},
   "outputs": [],
   "source": [
    "# This function compute the cost of model in each pair (w, b)\n",
    "def compute_cost(X, y, w, b):\n",
    "    \n",
    "    cost = 0 # total cost of model\n",
    "    m = X.shape[0] # number of samples\n",
    "\n",
    "    for i in range(m):\n",
    "        f_wb = w * X[i] + b                # Linear function\n",
    "        cost += (f_wb - y[i])**2           # Loss function over a sample\n",
    "    cost /= 2*m\n",
    "    return cost"
   ]
  },
  {
   "cell_type": "markdown",
   "metadata": {},
   "source": [
    "The gradient of the cost function w.r.t each parameter is defined:\n",
    "$$\n",
    "    \\frac{\\partial J}{\\partial w_{j}} = \\frac{1}{m}\\sum_{i = 0}^{m-1} (f(\\vec{X}^{(i)}) - y^{(i)}) X^{(i)}_{j}\n",
    "$$\n",
    "and \n",
    "$$\n",
    "    \\frac{\\partial J}{\\partial b} = \\frac{1}{m}\\sum_{i = 0}^{m-1} (f(\\vec{X}^{(i)}) - y^{(i)})\n",
    "$$"
   ]
  },
  {
   "cell_type": "code",
   "execution_count": 65,
   "metadata": {},
   "outputs": [],
   "source": [
    "# This function compute the gradient of cost in each pair (w, b)\n",
    "def compute_gradient(X, y, w, b):\n",
    "    m = X.shape[0] # number of samples\n",
    "    dj_dw = 0      # gradient of cost wrt w\n",
    "    dj_db = 0      # gradient of cost wrt b\n",
    "\n",
    "    for i in range(m):\n",
    "        f_wb = w * X[i] + b\n",
    "        dj_dw += (f_wb - y[i]) * X[i]\n",
    "        dj_db += (f_wb - y[i])\n",
    "    dj_dw /= m\n",
    "    dj_db /= m\n",
    "    return dj_dw, dj_db"
   ]
  },
  {
   "cell_type": "markdown",
   "metadata": {},
   "source": [
    "So now, we update the pair ($w$, $b$) after each iteration until convergence:\n",
    "$$\n",
    "    w_{j} = w_{j} - \\alpha \\frac{\\partial J}{\\partial w_{j}} \n",
    "$$\n",
    "and \n",
    "$$\n",
    "    b = b - \\alpha \\frac{\\partial J}{\\partial b}\n",
    "$$\n",
    "where $\\alpha$ is learning rate"
   ]
  },
  {
   "cell_type": "code",
   "execution_count": 66,
   "metadata": {},
   "outputs": [],
   "source": [
    "# This function compute the update of pair (w, b) through each iteration\n",
    "\n",
    "def gradient_descent(X, y, w_init, b_init, iteration, alpha):\n",
    "    w = copy.deepcopy(w_init)\n",
    "    b = copy.deepcopy(b_init)\n",
    "    m = X.shape[0]\n",
    "    \n",
    "    for i in range(iteration):\n",
    "        dj_dw, dj_db = compute_gradient(X, y, w, b)\n",
    "        w -= alpha * dj_dw\n",
    "        b -= alpha * dj_db\n",
    "        J = compute_cost(X, y, w, b)\n",
    "        if i%100 == 0:\n",
    "            print(f\"J, w, b in iteration {i:5}: {J:5.3f} {w:5.3f} {b:5.3f}\")\n",
    "\n",
    "    return w, b"
   ]
  },
  {
   "cell_type": "code",
   "execution_count": 73,
   "metadata": {},
   "outputs": [
    {
     "name": "stdout",
     "output_type": "stream",
     "text": [
      "J, w, b in iteration     0: 0.647 1.064 1.013\n",
      "J, w, b in iteration   100: 0.326 1.131 1.325\n",
      "J, w, b in iteration   200: 0.268 1.096 1.564\n",
      "J, w, b in iteration   300: 0.229 1.067 1.758\n",
      "J, w, b in iteration   400: 0.204 1.044 1.915\n",
      "J, w, b in iteration   500: 0.188 1.025 2.042\n",
      "J, w, b in iteration   600: 0.177 1.010 2.144\n",
      "J, w, b in iteration   700: 0.170 0.997 2.227\n",
      "J, w, b in iteration   800: 0.165 0.987 2.294\n",
      "J, w, b in iteration   900: 0.162 0.979 2.349\n",
      "J, w, b in iteration  1000: 0.160 0.973 2.393\n",
      "J, w, b in iteration  1100: 0.159 0.967 2.428\n",
      "J, w, b in iteration  1200: 0.158 0.963 2.457\n",
      "J, w, b in iteration  1300: 0.157 0.960 2.480\n",
      "J, w, b in iteration  1400: 0.157 0.957 2.499\n",
      "J, w, b in iteration  1500: 0.157 0.955 2.515\n",
      "J, w, b in iteration  1600: 0.157 0.953 2.527\n",
      "J, w, b in iteration  1700: 0.157 0.951 2.537\n",
      "J, w, b in iteration  1800: 0.156 0.950 2.545\n",
      "J, w, b in iteration  1900: 0.156 0.949 2.551\n",
      "J, w, b in iteration  2000: 0.156 0.948 2.557\n",
      "J, w, b in iteration  2100: 0.156 0.948 2.561\n",
      "J, w, b in iteration  2200: 0.156 0.947 2.565\n",
      "J, w, b in iteration  2300: 0.156 0.947 2.567\n",
      "J, w, b in iteration  2400: 0.156 0.946 2.570\n",
      "J, w, b in iteration  2500: 0.156 0.946 2.571\n",
      "J, w, b in iteration  2600: 0.156 0.946 2.573\n",
      "J, w, b in iteration  2700: 0.156 0.946 2.574\n",
      "J, w, b in iteration  2800: 0.156 0.946 2.575\n",
      "J, w, b in iteration  2900: 0.156 0.945 2.576\n",
      "J, w, b in iteration  3000: 0.156 0.945 2.577\n",
      "J, w, b in iteration  3100: 0.156 0.945 2.577\n",
      "J, w, b in iteration  3200: 0.156 0.945 2.577\n",
      "J, w, b in iteration  3300: 0.156 0.945 2.578\n",
      "J, w, b in iteration  3400: 0.156 0.945 2.578\n",
      "J, w, b in iteration  3500: 0.156 0.945 2.578\n",
      "J, w, b in iteration  3600: 0.156 0.945 2.578\n",
      "J, w, b in iteration  3700: 0.156 0.945 2.579\n",
      "J, w, b in iteration  3800: 0.156 0.945 2.579\n",
      "J, w, b in iteration  3900: 0.156 0.945 2.579\n",
      "J, w, b in iteration  4000: 0.156 0.945 2.579\n",
      "J, w, b in iteration  4100: 0.156 0.945 2.579\n",
      "J, w, b in iteration  4200: 0.156 0.945 2.579\n",
      "J, w, b in iteration  4300: 0.156 0.945 2.579\n",
      "J, w, b in iteration  4400: 0.156 0.945 2.579\n",
      "J, w, b in iteration  4500: 0.156 0.945 2.579\n",
      "J, w, b in iteration  4600: 0.156 0.945 2.579\n",
      "J, w, b in iteration  4700: 0.156 0.945 2.579\n",
      "J, w, b in iteration  4800: 0.156 0.945 2.579\n",
      "J, w, b in iteration  4900: 0.156 0.945 2.579\n",
      "J, w, b in iteration  5000: 0.156 0.945 2.579\n",
      "J, w, b in iteration  5100: 0.156 0.945 2.579\n",
      "J, w, b in iteration  5200: 0.156 0.945 2.579\n",
      "J, w, b in iteration  5300: 0.156 0.945 2.579\n",
      "J, w, b in iteration  5400: 0.156 0.945 2.579\n",
      "J, w, b in iteration  5500: 0.156 0.945 2.579\n",
      "J, w, b in iteration  5600: 0.156 0.945 2.579\n",
      "J, w, b in iteration  5700: 0.156 0.945 2.579\n",
      "J, w, b in iteration  5800: 0.156 0.945 2.579\n",
      "J, w, b in iteration  5900: 0.156 0.945 2.579\n",
      "J, w, b in iteration  6000: 0.156 0.945 2.579\n",
      "J, w, b in iteration  6100: 0.156 0.945 2.579\n",
      "J, w, b in iteration  6200: 0.156 0.945 2.579\n",
      "J, w, b in iteration  6300: 0.156 0.945 2.579\n",
      "J, w, b in iteration  6400: 0.156 0.945 2.579\n",
      "J, w, b in iteration  6500: 0.156 0.945 2.579\n",
      "J, w, b in iteration  6600: 0.156 0.945 2.579\n",
      "J, w, b in iteration  6700: 0.156 0.945 2.579\n",
      "J, w, b in iteration  6800: 0.156 0.945 2.579\n",
      "J, w, b in iteration  6900: 0.156 0.945 2.579\n",
      "J, w, b in iteration  7000: 0.156 0.945 2.579\n",
      "J, w, b in iteration  7100: 0.156 0.945 2.579\n",
      "J, w, b in iteration  7200: 0.156 0.945 2.579\n",
      "J, w, b in iteration  7300: 0.156 0.945 2.579\n",
      "J, w, b in iteration  7400: 0.156 0.945 2.579\n",
      "J, w, b in iteration  7500: 0.156 0.945 2.579\n",
      "J, w, b in iteration  7600: 0.156 0.945 2.579\n",
      "J, w, b in iteration  7700: 0.156 0.945 2.579\n",
      "J, w, b in iteration  7800: 0.156 0.945 2.579\n",
      "J, w, b in iteration  7900: 0.156 0.945 2.579\n",
      "J, w, b in iteration  8000: 0.156 0.945 2.579\n",
      "J, w, b in iteration  8100: 0.156 0.945 2.579\n",
      "J, w, b in iteration  8200: 0.156 0.945 2.579\n",
      "J, w, b in iteration  8300: 0.156 0.945 2.579\n",
      "J, w, b in iteration  8400: 0.156 0.945 2.579\n",
      "J, w, b in iteration  8500: 0.156 0.945 2.579\n",
      "J, w, b in iteration  8600: 0.156 0.945 2.579\n",
      "J, w, b in iteration  8700: 0.156 0.945 2.579\n",
      "J, w, b in iteration  8800: 0.156 0.945 2.579\n",
      "J, w, b in iteration  8900: 0.156 0.945 2.579\n",
      "J, w, b in iteration  9000: 0.156 0.945 2.579\n",
      "J, w, b in iteration  9100: 0.156 0.945 2.579\n",
      "J, w, b in iteration  9200: 0.156 0.945 2.579\n",
      "J, w, b in iteration  9300: 0.156 0.945 2.579\n",
      "J, w, b in iteration  9400: 0.156 0.945 2.579\n",
      "J, w, b in iteration  9500: 0.156 0.945 2.579\n",
      "J, w, b in iteration  9600: 0.156 0.945 2.579\n",
      "J, w, b in iteration  9700: 0.156 0.945 2.579\n",
      "J, w, b in iteration  9800: 0.156 0.945 2.579\n",
      "J, w, b in iteration  9900: 0.156 0.945 2.579\n",
      "w, b founded by the model: 0.944996 2.579220\n"
     ]
    }
   ],
   "source": [
    "iteration = 10000\n",
    "alpha = 0.01\n",
    "w_init, b_init = 1, 1\n",
    "w_out, b_out = gradient_descent(X, y, w_init, b_init, iteration, alpha)\n",
    "\n",
    "print(f\"w, b founded by the model: {w_out:5f} {b_out:5f}\")"
   ]
  },
  {
   "cell_type": "markdown",
   "metadata": {},
   "source": [
    "So that we have $w$ = 0.944996 and $b$ = 2.579220"
   ]
  },
  {
   "cell_type": "code",
   "execution_count": 82,
   "metadata": {},
   "outputs": [
    {
     "name": "stdout",
     "output_type": "stream",
     "text": [
      "-2.0917029589876773e-10\n"
     ]
    }
   ],
   "source": [
    "X_test = data['YearsExperience']\n",
    "y_test = data['Salary'] / 10000\n",
    "\n",
    "y_predict = (w_out * X_test + b_out)\n",
    "diff = np.sum(y_predict - y_test) / X.shape[0]\n",
    "print(diff)"
   ]
  },
  {
   "cell_type": "markdown",
   "metadata": {},
   "source": [
    "The difference is very small, so that the line fit the data quite well!"
   ]
  },
  {
   "cell_type": "code",
   "execution_count": 84,
   "metadata": {},
   "outputs": [
    {
     "name": "stdout",
     "output_type": "stream",
     "text": [
      "w, b by GD:          (0.944996, 2.579220)\n",
      "w, b by scikitlearn: (0.944996, 2.579220)\n"
     ]
    }
   ],
   "source": [
    "# Check the accuracy by using scikitlearn\n",
    "from sklearn.linear_model import LinearRegression\n",
    "from sklearn.model_selection import train_test_split\n",
    "\n",
    "linearmodel = LinearRegression()\n",
    "\n",
    "X_train = data['YearsExperience'].values.reshape(-1, 1)\n",
    "y_train = data['Salary'].values / 10000\n",
    "\n",
    "linearmodel.fit(X_train, y_train)\n",
    "\n",
    "print(f\"w, b by GD:          ({w_out:5f}, {b_out:5f})\")\n",
    "print(f\"w, b by scikitlearn: ({linearmodel.coef_[0]:5f}, {linearmodel.intercept_:5f})\")"
   ]
  },
  {
   "cell_type": "markdown",
   "metadata": {},
   "source": [
    "So that the weight and bias computed by Gradient descent algorithm is exactly!.\n",
    "Now we'll plot the line decribe the function:"
   ]
  },
  {
   "cell_type": "code",
   "execution_count": 70,
   "metadata": {},
   "outputs": [
    {
     "data": {
      "image/png": "[encoded data removed]",
      "text/plain": [
       "<Figure size 432x288 with 1 Axes>"
      ]
     },
     "metadata": {
      "needs_background": "light"
     },
     "output_type": "display_data"
    }
   ],
   "source": [
    "# Visualize the output:\n",
    "plt.scatter(X, y * 10000, color = 'b')\n",
    "plt.plot(X_test, y_predict, color = 'r')\n",
    "plt.xlabel('X')\n",
    "plt.ylabel('y')\n",
    "plt.show()"
   ]
  },
  {
   "cell_type": "code",
   "execution_count": 88,
   "metadata": {},
   "outputs": [
    {
     "name": "stdout",
     "output_type": "stream",
     "text": [
      "w, b founded by Linear Regression: (0.958889, 2.502330)\n",
      "accuracy: 0.9924480550398919\n"
     ]
    }
   ],
   "source": [
    "X_train1, X_test1, y_train1, y_test1 = train_test_split(X_train, y_train, test_size=0.1)\n",
    "\n",
    "model2 = LinearRegression()\n",
    "\n",
    "model2.fit(X_train1, y_train1)\n",
    "print(f\"w, b founded by Linear Regression: ({model2.coef_[0]:5f}, {model2.intercept_:5f})\")\n",
    "print(f\"accuracy: {model2.score(X_test1, y_test1)}\")"
   ]
  },
  {
   "cell_type": "code",
   "execution_count": 91,
   "metadata": {},
   "outputs": [
    {
     "data": {
      "image/png": "[encoded data removed]",
      "text/plain": [
       "<Figure size 432x288 with 1 Axes>"
      ]
     },
     "metadata": {
      "needs_background": "light"
     },
     "output_type": "display_data"
    }
   ],
   "source": [
    "w, b = model2.coef_[0], model2.intercept_\n",
    "# Visualize the output:\n",
    "plt.scatter(X, y * 10000, color = 'b')\n",
    "plt.plot(X_train, (w*X_train + b)*10000, color = 'r')\n",
    "plt.xlabel('X')\n",
    "plt.ylabel('y')\n",
    "plt.show()"
   ]
  },
  {
   "cell_type": "code",
   "execution_count": null,
   "metadata": {},
   "outputs": [],
   "source": []
  }
 ],
 "metadata": {
  "kernelspec": {
   "display_name": "Python 3.9.6 64-bit",
   "language": "python",
   "name": "python3"
  },
  "language_info": {
   "codemirror_mode": {
    "name": "ipython",
    "version": 3
   },
   "file_extension": ".py",
   "mimetype": "text/x-python",
   "name": "python",
   "nbconvert_exporter": "python",
   "pygments_lexer": "ipython3",
   "version": "3.9.6"
  },
  "orig_nbformat": 4,
  "vscode": {
   "interpreter": {
    "hash": "81794d4967e6c3204c66dcd87b604927b115b27c00565d3d43f05ba2f3a2cb0d"
   }
  }
 },
 "nbformat": 4,
 "nbformat_minor": 2
}
